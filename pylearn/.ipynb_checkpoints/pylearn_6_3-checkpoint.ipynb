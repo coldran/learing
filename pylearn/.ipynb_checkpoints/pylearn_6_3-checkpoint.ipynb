{
 "cells": [
  {
   "cell_type": "code",
   "execution_count": 5,
   "metadata": {},
   "outputs": [
    {
     "name": "stdout",
     "output_type": "stream",
     "text": [
      "this is test txt\n",
      "\n"
     ]
    }
   ],
   "source": [
    "import os\n",
    "f = open(os.path.abspath(os.path.curdir) + '/test/test.txt') \n",
    "#open返回有read()方法的对象，可以是各种流，有read()就行\n",
    "print(f.read())\n",
    "f.close()"
   ]
  },
  {
   "cell_type": "code",
   "execution_count": 9,
   "metadata": {
    "scrolled": true
   },
   "outputs": [
    {
     "name": "stdout",
     "output_type": "stream",
     "text": [
      "this is test txt\n",
      "\n"
     ]
    }
   ],
   "source": [
    "import os\n",
    "try:\n",
    "    f = open(os.path.abspath(os.path.curdir) + '/test/test.txt')\n",
    "    print(f.read())\n",
    "except:\n",
    "    raise IOError('wrong name')\n",
    "finally:\n",
    "    if f:\n",
    "        f.close()"
   ]
  },
  {
   "cell_type": "code",
   "execution_count": 22,
   "metadata": {},
   "outputs": [
    {
     "name": "stdout",
     "output_type": "stream",
     "text": [
      "this is test txt\n"
     ]
    }
   ],
   "source": [
    "with open('./test/test.txt') as f:\n",
    "    #print(f.read()) # 读取一定大小 read(size) 读取一行readline()\n",
    "    \n",
    "    for line in f.readlines(): #按行读取存在list\n",
    "        print(line.strip())\n"
   ]
  },
  {
   "cell_type": "code",
   "execution_count": 25,
   "metadata": {},
   "outputs": [
    {
     "name": "stdout",
     "output_type": "stream",
     "text": [
      "b'hello, world!\\n'\n"
     ]
    }
   ],
   "source": [
    "f = open('./test/test.txt', 'rb') #读二进制文件\n",
    "print(f.read())\n",
    "f.close()"
   ]
  },
  {
   "cell_type": "code",
   "execution_count": 59,
   "metadata": {},
   "outputs": [
    {
     "name": "stdout",
     "output_type": "stream",
     "text": [
      "hello, world!\n",
      "hello,world2!\n",
      "\n"
     ]
    }
   ],
   "source": [
    "f = open('./test/test.txt', 'w')\n",
    "f.write('hello, world!\\n')\n",
    "f.close()\n",
    "\n",
    "with open('./test/test.txt', 'a+') as f: #使用with语句操作文件io\n",
    "    f.write('hello,world2!\\n')\n",
    "    f.seek(0)\n",
    "    print(f.read())\n"
   ]
  },
  {
   "cell_type": "code",
   "execution_count": 62,
   "metadata": {},
   "outputs": [
    {
     "name": "stdout",
     "output_type": "stream",
     "text": [
      "hello\n",
      "hi\n",
      "goodbye\n"
     ]
    }
   ],
   "source": [
    "from io import StringIO\n",
    "f = StringIO('hello\\nhi\\ngoodbye\\n') #在内存里读写str\n",
    "while True:\n",
    "    s = f.readline()\n",
    "    if s == '':\n",
    "        break\n",
    "    print(s.strip())"
   ]
  },
  {
   "cell_type": "code",
   "execution_count": 65,
   "metadata": {},
   "outputs": [
    {
     "data": {
      "text/plain": [
       "6"
      ]
     },
     "execution_count": 65,
     "metadata": {},
     "output_type": "execute_result"
    }
   ],
   "source": [
    "from io import BytesIO\n",
    "f = BytesIO() #在内存里读写二进制数据\n",
    "f.write('中文'.encode('utf-8'))"
   ]
  },
  {
   "cell_type": "code",
   "execution_count": 66,
   "metadata": {},
   "outputs": [
    {
     "data": {
      "text/plain": [
       "'posix'"
      ]
     },
     "execution_count": 66,
     "metadata": {},
     "output_type": "execute_result"
    }
   ],
   "source": [
    "import os\n",
    "os.name"
   ]
  },
  {
   "cell_type": "code",
   "execution_count": 68,
   "metadata": {},
   "outputs": [
    {
     "data": {
      "text/plain": [
       "posix.uname_result(sysname='Linux', nodename='Ava-virtual', release='4.15.0-50-generic', version='#54-Ubuntu SMP Mon May 6 18:46:08 UTC 2019', machine='x86_64')"
      ]
     },
     "execution_count": 68,
     "metadata": {},
     "output_type": "execute_result"
    }
   ],
   "source": [
    "os.uname()"
   ]
  },
  {
   "cell_type": "code",
   "execution_count": 74,
   "metadata": {},
   "outputs": [
    {
     "data": {
      "text/plain": [
       "environ{'CLUTTER_IM_MODULE': 'xim',\n",
       "        'CONDA_SHLVL': '2',\n",
       "        'LS_COLORS': 'rs=0:di=01;34:ln=01;36:mh=00:pi=40;33:so=01;35:do=01;35:bd=40;33;01:cd=40;33;01:or=40;31;01:mi=00:su=37;41:sg=30;43:ca=30;41:tw=30;42:ow=34;42:st=37;44:ex=01;32:*.tar=01;31:*.tgz=01;31:*.arc=01;31:*.arj=01;31:*.taz=01;31:*.lha=01;31:*.lz4=01;31:*.lzh=01;31:*.lzma=01;31:*.tlz=01;31:*.txz=01;31:*.tzo=01;31:*.t7z=01;31:*.zip=01;31:*.z=01;31:*.Z=01;31:*.dz=01;31:*.gz=01;31:*.lrz=01;31:*.lz=01;31:*.lzo=01;31:*.xz=01;31:*.zst=01;31:*.tzst=01;31:*.bz2=01;31:*.bz=01;31:*.tbz=01;31:*.tbz2=01;31:*.tz=01;31:*.deb=01;31:*.rpm=01;31:*.jar=01;31:*.war=01;31:*.ear=01;31:*.sar=01;31:*.rar=01;31:*.alz=01;31:*.ace=01;31:*.zoo=01;31:*.cpio=01;31:*.7z=01;31:*.rz=01;31:*.cab=01;31:*.wim=01;31:*.swm=01;31:*.dwm=01;31:*.esd=01;31:*.jpg=01;35:*.jpeg=01;35:*.mjpg=01;35:*.mjpeg=01;35:*.gif=01;35:*.bmp=01;35:*.pbm=01;35:*.pgm=01;35:*.ppm=01;35:*.tga=01;35:*.xbm=01;35:*.xpm=01;35:*.tif=01;35:*.tiff=01;35:*.png=01;35:*.svg=01;35:*.svgz=01;35:*.mng=01;35:*.pcx=01;35:*.mov=01;35:*.mpg=01;35:*.mpeg=01;35:*.m2v=01;35:*.mkv=01;35:*.webm=01;35:*.ogm=01;35:*.mp4=01;35:*.m4v=01;35:*.mp4v=01;35:*.vob=01;35:*.qt=01;35:*.nuv=01;35:*.wmv=01;35:*.asf=01;35:*.rm=01;35:*.rmvb=01;35:*.flc=01;35:*.avi=01;35:*.fli=01;35:*.flv=01;35:*.gl=01;35:*.dl=01;35:*.xcf=01;35:*.xwd=01;35:*.yuv=01;35:*.cgm=01;35:*.emf=01;35:*.ogv=01;35:*.ogx=01;35:*.aac=00;36:*.au=00;36:*.flac=00;36:*.m4a=00;36:*.mid=00;36:*.midi=00;36:*.mka=00;36:*.mp3=00;36:*.mpc=00;36:*.ogg=00;36:*.ra=00;36:*.wav=00;36:*.oga=00;36:*.opus=00;36:*.spx=00;36:*.xspf=00;36:',\n",
       "        'CONDA_EXE': '/home/avalanche/anaconda3/bin/conda',\n",
       "        'LESSCLOSE': '/usr/bin/lesspipe %s %s',\n",
       "        'XDG_MENU_PREFIX': 'gnome-',\n",
       "        'LANG': 'zh_CN.UTF-8',\n",
       "        'MANAGERPID': '1999',\n",
       "        'DISPLAY': ':0',\n",
       "        'INVOCATION_ID': 'd0f0517e517747f0a1d2a173692da7c5',\n",
       "        'GNOME_SHELL_SESSION_MODE': 'ubuntu',\n",
       "        'GTK2_MODULES': 'overlay-scrollbar',\n",
       "        'COLORTERM': 'truecolor',\n",
       "        'ZEITGEIST_DATA_PATH': '/home/avalanche/.local/share/zeitgeist',\n",
       "        'USERNAME': 'avalanche',\n",
       "        'CONDA_PREFIX': '/home/avalanche/anaconda3/envs/cs231n_2019',\n",
       "        'XDG_VTNR': '2',\n",
       "        'SSH_AUTH_SOCK': '/run/user/1000/keyring/ssh',\n",
       "        'MANDATORY_PATH': '/usr/share/gconf/ubuntu.mandatory.path',\n",
       "        'XDG_SESSION_ID': '2',\n",
       "        'USER': 'avalanche',\n",
       "        'CONDA_PREFIX_1': '/home/avalanche/anaconda3',\n",
       "        'DESKTOP_SESSION': 'ubuntu',\n",
       "        'QT4_IM_MODULE': 'fcitx',\n",
       "        'TEXTDOMAINDIR': '/usr/share/locale/',\n",
       "        'GNOME_TERMINAL_SCREEN': '/org/gnome/Terminal/screen/2419292d_6233_49fd_bbd0_f477fd5e30bd',\n",
       "        'DEFAULTS_PATH': '/usr/share/gconf/ubuntu.default.path',\n",
       "        'QT_QPA_PLATFORMTHEME': 'appmenu-qt5',\n",
       "        'PWD': '/home/avalanche/learning',\n",
       "        'HOME': '/home/avalanche',\n",
       "        'CONDA_PYTHON_EXE': '/home/avalanche/anaconda3/bin/python',\n",
       "        'JOURNAL_STREAM': '9:34738',\n",
       "        'TEXTDOMAIN': 'im-config',\n",
       "        'SSH_AGENT_PID': '2134',\n",
       "        'QT_ACCESSIBILITY': '1',\n",
       "        'XDG_SESSION_TYPE': 'x11',\n",
       "        'XDG_DATA_DIRS': '/usr/share/ubuntu:/usr/local/share:/usr/share:/var/lib/snapd/desktop:/var/lib/snapd/desktop',\n",
       "        'XDG_SESSION_DESKTOP': 'ubuntu',\n",
       "        'DBUS_STARTER_ADDRESS': 'unix:path=/run/user/1000/bus,guid=64aec54e92a3ae546190f16b5cf4762c',\n",
       "        'CONDA_PROMPT_MODIFIER': '(cs231n_2019) ',\n",
       "        'GTK_MODULES': 'gail:atk-bridge',\n",
       "        'WINDOWPATH': '2',\n",
       "        'TERM': 'xterm-color',\n",
       "        'SHELL': '/bin/bash',\n",
       "        'VTE_VERSION': '5202',\n",
       "        'QT_IM_MODULE': 'fcitx',\n",
       "        'XMODIFIERS': '@im=fcitx',\n",
       "        'IM_CONFIG_PHASE': '2',\n",
       "        'DBUS_STARTER_BUS_TYPE': 'session',\n",
       "        'XDG_CURRENT_DESKTOP': 'ubuntu:GNOME',\n",
       "        'GPG_AGENT_INFO': '/run/user/1000/gnupg/S.gpg-agent:0:1',\n",
       "        'GNOME_TERMINAL_SERVICE': ':1.92',\n",
       "        'XDG_SEAT': 'seat0',\n",
       "        'SHLVL': '1',\n",
       "        'LANGUAGE': 'zh_CN:zh',\n",
       "        'GDMSESSION': 'ubuntu',\n",
       "        'GNOME_DESKTOP_SESSION_ID': 'this-is-deprecated',\n",
       "        'LOGNAME': 'avalanche',\n",
       "        'DBUS_SESSION_BUS_ADDRESS': 'unix:path=/run/user/1000/bus,guid=64aec54e92a3ae546190f16b5cf4762c',\n",
       "        'XDG_RUNTIME_DIR': '/run/user/1000',\n",
       "        'XAUTHORITY': '/run/user/1000/gdm/Xauthority',\n",
       "        'XDG_CONFIG_DIRS': '/etc/xdg/xdg-ubuntu:/etc/xdg',\n",
       "        'PATH': '/home/avalanche/anaconda3/bin:/home/avalanche/anaconda3/envs/cs231n_2019/bin:/home/avalanche/anaconda3/bin:/home/avalanche/bin:/home/avalanche/.local/bin:/usr/local/sbin:/usr/local/bin:/usr/sbin:/usr/bin:/sbin:/bin:/usr/games:/usr/local/games:/snap/bin',\n",
       "        'CONDA_DEFAULT_ENV': 'cs231n_2019',\n",
       "        'SESSION_MANAGER': 'local/Ava-virtual:@/tmp/.ICE-unix/2032,unix/Ava-virtual:/tmp/.ICE-unix/2032',\n",
       "        'LESSOPEN': '| /usr/bin/lesspipe %s',\n",
       "        'GTK_IM_MODULE': 'fcitx',\n",
       "        '_': '/home/avalanche/anaconda3/bin/jupyter',\n",
       "        'JPY_PARENT_PID': '3135',\n",
       "        'CLICOLOR': '1',\n",
       "        'PAGER': 'cat',\n",
       "        'GIT_PAGER': 'cat',\n",
       "        'MPLBACKEND': 'module://ipykernel.pylab.backend_inline'}"
      ]
     },
     "execution_count": 74,
     "metadata": {},
     "output_type": "execute_result"
    }
   ],
   "source": [
    "os.environ"
   ]
  },
  {
   "cell_type": "code",
   "execution_count": 75,
   "metadata": {},
   "outputs": [
    {
     "data": {
      "text/plain": [
       "'/home/avalanche/anaconda3/bin:/home/avalanche/anaconda3/envs/cs231n_2019/bin:/home/avalanche/anaconda3/bin:/home/avalanche/bin:/home/avalanche/.local/bin:/usr/local/sbin:/usr/local/bin:/usr/sbin:/usr/bin:/sbin:/bin:/usr/games:/usr/local/games:/snap/bin'"
      ]
     },
     "execution_count": 75,
     "metadata": {},
     "output_type": "execute_result"
    }
   ],
   "source": [
    "os.environ.get('PATH') #查找指定环境变量"
   ]
  },
  {
   "cell_type": "code",
   "execution_count": 76,
   "metadata": {},
   "outputs": [
    {
     "data": {
      "text/plain": [
       "'/home/avalanche/learning/pylearn'"
      ]
     },
     "execution_count": 76,
     "metadata": {},
     "output_type": "execute_result"
    }
   ],
   "source": [
    "os.path.abspath('.') #绝对路径"
   ]
  },
  {
   "cell_type": "code",
   "execution_count": 82,
   "metadata": {},
   "outputs": [
    {
     "data": {
      "text/plain": [
       "'/home/avalanche/learning/pylearn/test/test_jojin'"
      ]
     },
     "execution_count": 82,
     "metadata": {},
     "output_type": "execute_result"
    }
   ],
   "source": [
    "os.path.join(os.path.abspath('.'), 'test', \"test_jojin\") \n",
    "#使用jojin合成路径，因为不同系统中路径分隔符不同"
   ]
  },
  {
   "cell_type": "code",
   "execution_count": 84,
   "metadata": {},
   "outputs": [],
   "source": [
    "os.mkdir('/home/avalanche/learning/pylearn/test/test_jojin')"
   ]
  },
  {
   "cell_type": "code",
   "execution_count": 85,
   "metadata": {},
   "outputs": [],
   "source": [
    "os.rmdir('/home/avalanche/learning/pylearn/test/test_jojin')"
   ]
  },
  {
   "cell_type": "code",
   "execution_count": 86,
   "metadata": {},
   "outputs": [
    {
     "data": {
      "text/plain": [
       "('/home/avalanche/learning/pylearn/test', 'test_jojin')"
      ]
     },
     "execution_count": 86,
     "metadata": {},
     "output_type": "execute_result"
    }
   ],
   "source": [
    "os.path.split('/home/avalanche/learning/pylearn/test/test_jojin')\n",
    "#同理分割要使用split"
   ]
  }
 ],
 "metadata": {
  "kernelspec": {
   "display_name": "Python 3",
   "language": "python",
   "name": "python3"
  },
  "language_info": {
   "codemirror_mode": {
    "name": "ipython",
    "version": 3
   },
   "file_extension": ".py",
   "mimetype": "text/x-python",
   "name": "python",
   "nbconvert_exporter": "python",
   "pygments_lexer": "ipython3",
   "version": "3.7.1"
  }
 },
 "nbformat": 4,
 "nbformat_minor": 2
}
